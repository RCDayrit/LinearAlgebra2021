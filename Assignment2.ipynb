{
  "nbformat": 4,
  "nbformat_minor": 0,
  "metadata": {
    "colab": {
      "name": "Assignment2.ipynb",
      "provenance": [],
      "collapsed_sections": [
        "l0ybttf07r8p",
        "mYABJzwb_43V"
      ],
      "include_colab_link": true
    },
    "kernelspec": {
      "name": "python3",
      "display_name": "Python 3"
    },
    "language_info": {
      "name": "python"
    }
  },
  "cells": [
    {
      "cell_type": "markdown",
      "metadata": {
        "id": "view-in-github",
        "colab_type": "text"
      },
      "source": [
        "<a href=\"https://colab.research.google.com/github/RCDayrit/LinearAlgebra2021/blob/main/Assignment2.ipynb\" target=\"_parent\"><img src=\"https://colab.research.google.com/assets/colab-badge.svg\" alt=\"Open In Colab\"/></a>"
      ]
    },
    {
      "cell_type": "markdown",
      "metadata": {
        "id": "ovElH8ya3KlH"
      },
      "source": [
        "#Welcome to Python Fundamentals\n",
        "In this module, we are going to establish our skills in Python programming\n",
        "\n",
        "\n",
        "\n",
        "\n",
        "\n",
        "*   Variables and Data types\n",
        "*   Operations\n",
        "\n",
        "*   Input and Output Operations\n",
        "\n",
        "*   Logic Control\n",
        "*   Iterables\n",
        "\n",
        "\n",
        "*   Functions\n",
        "\n",
        "\n",
        "\n",
        "\n",
        "\n",
        "\n"
      ]
    },
    {
      "cell_type": "markdown",
      "metadata": {
        "id": "IIZmrO8t6Xqc"
      },
      "source": [
        "#Variables and Data Types\n",
        "\n",
        "I have learned from variables and data types are about giving values to specific variables and calling out variables.\n"
      ]
    },
    {
      "cell_type": "code",
      "metadata": {
        "id": "d_Q_31Kd6zuL"
      },
      "source": [
        "x = 1\n",
        "a, b = 3, -2"
      ],
      "execution_count": 3,
      "outputs": []
    },
    {
      "cell_type": "code",
      "metadata": {
        "colab": {
          "base_uri": "https://localhost:8080/"
        },
        "id": "Ahu22U9J3pAk",
        "outputId": "e79942b6-5705-42ad-b591-07d6e9074669"
      },
      "source": [
        "type(x)"
      ],
      "execution_count": 4,
      "outputs": [
        {
          "output_type": "execute_result",
          "data": {
            "text/plain": [
              "int"
            ]
          },
          "metadata": {},
          "execution_count": 4
        }
      ]
    },
    {
      "cell_type": "code",
      "metadata": {
        "colab": {
          "base_uri": "https://localhost:8080/"
        },
        "id": "u-I_sT9K4Dmq",
        "outputId": "96dd00d8-ea6e-424d-84b7-7155e1e45c57"
      },
      "source": [
        "y = 3.0\n",
        "type(y)"
      ],
      "execution_count": 5,
      "outputs": [
        {
          "output_type": "execute_result",
          "data": {
            "text/plain": [
              "float"
            ]
          },
          "metadata": {},
          "execution_count": 5
        }
      ]
    },
    {
      "cell_type": "code",
      "metadata": {
        "colab": {
          "base_uri": "https://localhost:8080/"
        },
        "id": "wBMOOJDv4G17",
        "outputId": "7b761b0e-f39e-4c66-93b6-86afcfba5a99"
      },
      "source": [
        "x = float(x)\n",
        "type(x)\n",
        "x"
      ],
      "execution_count": 6,
      "outputs": [
        {
          "output_type": "execute_result",
          "data": {
            "text/plain": [
              "1.0"
            ]
          },
          "metadata": {},
          "execution_count": 6
        }
      ]
    },
    {
      "cell_type": "code",
      "metadata": {
        "colab": {
          "base_uri": "https://localhost:8080/"
        },
        "id": "867OnI3_4X0i",
        "outputId": "6b603af3-bef5-4642-9237-abca028dd76c"
      },
      "source": [
        "s, t, u = \"1\", '3', 'three'\n",
        "type(u)"
      ],
      "execution_count": 7,
      "outputs": [
        {
          "output_type": "execute_result",
          "data": {
            "text/plain": [
              "str"
            ]
          },
          "metadata": {},
          "execution_count": 7
        }
      ]
    },
    {
      "cell_type": "markdown",
      "metadata": {
        "id": "pOKddCwn7eVp"
      },
      "source": [
        "#Operations"
      ]
    },
    {
      "cell_type": "markdown",
      "metadata": {
        "id": "Ch6vmB9k7hYg"
      },
      "source": [
        "#Arithmetic\n",
        "\n",
        "I have learned to use the arithmetic on python by simply substituting variables into numbers for example in the substitution there are variables that has a specific value "
      ]
    },
    {
      "cell_type": "code",
      "metadata": {
        "id": "U4uir9WO7j28"
      },
      "source": [
        "w, x, y, z = 4.0, 3.0, 1, -32"
      ],
      "execution_count": 8,
      "outputs": []
    },
    {
      "cell_type": "code",
      "metadata": {
        "colab": {
          "base_uri": "https://localhost:8080/"
        },
        "id": "QKec8ov88_kd",
        "outputId": "7ae112fd-4d1d-4000-923b-bef6e8a18cfc"
      },
      "source": [
        "### Addition\n",
        "S = w + x\n",
        "S"
      ],
      "execution_count": 9,
      "outputs": [
        {
          "output_type": "execute_result",
          "data": {
            "text/plain": [
              "7.0"
            ]
          },
          "metadata": {},
          "execution_count": 9
        }
      ]
    },
    {
      "cell_type": "code",
      "metadata": {
        "colab": {
          "base_uri": "https://localhost:8080/"
        },
        "id": "4L1luw6p9Iy9",
        "outputId": "7c07a4e9-b082-4702-879d-9e2417fea300"
      },
      "source": [
        "### Subtraction\n",
        "D = y - z\n",
        "D"
      ],
      "execution_count": 10,
      "outputs": [
        {
          "output_type": "execute_result",
          "data": {
            "text/plain": [
              "33"
            ]
          },
          "metadata": {},
          "execution_count": 10
        }
      ]
    },
    {
      "cell_type": "code",
      "metadata": {
        "colab": {
          "base_uri": "https://localhost:8080/"
        },
        "id": "AuHHTaKr9JeQ",
        "outputId": "33da456c-e3d0-418c-dd0e-842cc035db1d"
      },
      "source": [
        "### Multiplication\n",
        "P = w*z\n",
        "P"
      ],
      "execution_count": 11,
      "outputs": [
        {
          "output_type": "execute_result",
          "data": {
            "text/plain": [
              "-128.0"
            ]
          },
          "metadata": {},
          "execution_count": 11
        }
      ]
    },
    {
      "cell_type": "code",
      "metadata": {
        "colab": {
          "base_uri": "https://localhost:8080/"
        },
        "id": "1XttnzPL9JU8",
        "outputId": "20de927e-0911-493d-b7dc-263fc94c4de5"
      },
      "source": [
        "### Division\n",
        "Q = y/x\n",
        "Q"
      ],
      "execution_count": 12,
      "outputs": [
        {
          "output_type": "execute_result",
          "data": {
            "text/plain": [
              "0.3333333333333333"
            ]
          },
          "metadata": {},
          "execution_count": 12
        }
      ]
    },
    {
      "cell_type": "code",
      "metadata": {
        "colab": {
          "base_uri": "https://localhost:8080/"
        },
        "id": "gvYdLMgi9s1S",
        "outputId": "06e5c6b0-f1ad-4813-9f49-cde63280abc2"
      },
      "source": [
        "QF = w//z\n",
        "QF "
      ],
      "execution_count": 13,
      "outputs": [
        {
          "output_type": "execute_result",
          "data": {
            "text/plain": [
              "-1.0"
            ]
          },
          "metadata": {},
          "execution_count": 13
        }
      ]
    },
    {
      "cell_type": "markdown",
      "metadata": {
        "id": "l0ybttf07r8p"
      },
      "source": [
        "### Assignment\n",
        "\n",
        "i have learned that in assignment you will assign values/numbers to variables while doing an arithmetic operation"
      ]
    },
    {
      "cell_type": "code",
      "metadata": {
        "id": "iu_FwENu7ws4"
      },
      "source": [
        "A, B, C ,D, E = 0, 100, 2, 1, 2"
      ],
      "execution_count": 14,
      "outputs": []
    },
    {
      "cell_type": "code",
      "metadata": {
        "colab": {
          "base_uri": "https://localhost:8080/"
        },
        "id": "qTF8N_Jy73TI",
        "outputId": "cf381dfd-f2a5-4571-8517-dedbafe3ca4a"
      },
      "source": [
        "A += w\n",
        "A"
      ],
      "execution_count": 15,
      "outputs": [
        {
          "output_type": "execute_result",
          "data": {
            "text/plain": [
              "4.0"
            ]
          },
          "metadata": {},
          "execution_count": 15
        }
      ]
    },
    {
      "cell_type": "code",
      "metadata": {
        "id": "qTBvqwoD8aRl"
      },
      "source": [
        "B -= x"
      ],
      "execution_count": 16,
      "outputs": []
    },
    {
      "cell_type": "code",
      "metadata": {
        "colab": {
          "base_uri": "https://localhost:8080/"
        },
        "id": "OhsjJqLE8eeG",
        "outputId": "b7f88ada-f336-4b84-a1e2-f9d597645532"
      },
      "source": [
        "C *= w\n",
        "C"
      ],
      "execution_count": 17,
      "outputs": [
        {
          "output_type": "execute_result",
          "data": {
            "text/plain": [
              "8.0"
            ]
          },
          "metadata": {},
          "execution_count": 17
        }
      ]
    },
    {
      "cell_type": "code",
      "metadata": {
        "colab": {
          "base_uri": "https://localhost:8080/"
        },
        "id": "wMNYM0_y9Y_R",
        "outputId": "ff16c92e-a601-4e42-c04d-84832f1efc4c"
      },
      "source": [
        "D /= x\n",
        "D"
      ],
      "execution_count": 18,
      "outputs": [
        {
          "output_type": "execute_result",
          "data": {
            "text/plain": [
              "0.3333333333333333"
            ]
          },
          "metadata": {},
          "execution_count": 18
        }
      ]
    },
    {
      "cell_type": "code",
      "metadata": {
        "colab": {
          "base_uri": "https://localhost:8080/"
        },
        "id": "9wYSPVQX92ew",
        "outputId": "54139506-86e3-45d7-c4ff-de9c20bed079"
      },
      "source": [
        "C **-y\n",
        "C"
      ],
      "execution_count": 19,
      "outputs": [
        {
          "output_type": "execute_result",
          "data": {
            "text/plain": [
              "8.0"
            ]
          },
          "metadata": {},
          "execution_count": 19
        }
      ]
    },
    {
      "cell_type": "code",
      "metadata": {
        "colab": {
          "base_uri": "https://localhost:8080/"
        },
        "id": "iUs_4T6L-Aof",
        "outputId": "5145f1d0-fd0d-4535-c1f7-df5501bd6d2c"
      },
      "source": [
        "D /= x\n",
        "D"
      ],
      "execution_count": 20,
      "outputs": [
        {
          "output_type": "execute_result",
          "data": {
            "text/plain": [
              "0.1111111111111111"
            ]
          },
          "metadata": {},
          "execution_count": 20
        }
      ]
    },
    {
      "cell_type": "code",
      "metadata": {
        "colab": {
          "base_uri": "https://localhost:8080/"
        },
        "id": "Mv6MGU5B-MFX",
        "outputId": "92836dd9-b485-4c96-fd8d-d8c018ff9bcb"
      },
      "source": [
        "\n",
        "E **= y\n",
        "E"
      ],
      "execution_count": 21,
      "outputs": [
        {
          "output_type": "execute_result",
          "data": {
            "text/plain": [
              "2"
            ]
          },
          "metadata": {},
          "execution_count": 21
        }
      ]
    },
    {
      "cell_type": "code",
      "metadata": {
        "id": "H8YVge0o-PPe"
      },
      "source": [
        ""
      ],
      "execution_count": 21,
      "outputs": []
    },
    {
      "cell_type": "markdown",
      "metadata": {
        "id": "auP9t9Kq-VxP"
      },
      "source": [
        "# Comparator\n",
        "\n",
        "I have learned in comparator are about comparing variables on which is larger and which is smaller. in greater than operation it is true if the operand is greater than the right, less than is true if the left operand is less than the right, equal to is true if both the operand are equal, not equal to is true if the operands are not equal, greater than or equal to is true if the operand is greater than or equal to the right, less than or equal to is true if the operand is less than or equal to the right."
      ]
    },
    {
      "cell_type": "code",
      "metadata": {
        "id": "sQ9UkCzZ-X4t"
      },
      "source": [
        "size_1, size_2, size_3 = 1, 2.0, \"1\"\n",
        "true_size = 1.0"
      ],
      "execution_count": 22,
      "outputs": []
    },
    {
      "cell_type": "code",
      "metadata": {
        "colab": {
          "base_uri": "https://localhost:8080/"
        },
        "id": "h-dYIK_Z-hjd",
        "outputId": "1ffd3452-f677-46b8-bff4-90990eab20a3"
      },
      "source": [
        "##Equality\n",
        "size_1 == true_size"
      ],
      "execution_count": 23,
      "outputs": [
        {
          "output_type": "execute_result",
          "data": {
            "text/plain": [
              "True"
            ]
          },
          "metadata": {},
          "execution_count": 23
        }
      ]
    },
    {
      "cell_type": "code",
      "metadata": {
        "colab": {
          "base_uri": "https://localhost:8080/"
        },
        "id": "TvF0PO_T-wFk",
        "outputId": "df8e5150-3ba9-48d4-a6e9-acddbd09fb6b"
      },
      "source": [
        "## Non-Equality\n",
        "size_2 != true_size"
      ],
      "execution_count": 24,
      "outputs": [
        {
          "output_type": "execute_result",
          "data": {
            "text/plain": [
              "True"
            ]
          },
          "metadata": {},
          "execution_count": 24
        }
      ]
    },
    {
      "cell_type": "code",
      "metadata": {
        "colab": {
          "base_uri": "https://localhost:8080/"
        },
        "id": "6H-AD5C-_ETl",
        "outputId": "6e09e921-ba77-49e2-bcd8-670f1ccf4f2f"
      },
      "source": [
        "##Inequality\n",
        "s1 = size_1 > size_2\n",
        "s1\n",
        "s2 = size_1 < size_2/2\n",
        "s2\n",
        "s3 = true_size >= size_1\n",
        "s3\n",
        "s4 = size_2 <= true_size\n",
        "s4"
      ],
      "execution_count": 25,
      "outputs": [
        {
          "output_type": "execute_result",
          "data": {
            "text/plain": [
              "False"
            ]
          },
          "metadata": {},
          "execution_count": 25
        }
      ]
    },
    {
      "cell_type": "markdown",
      "metadata": {
        "id": "mYABJzwb_43V"
      },
      "source": [
        "###Logical\n",
        "\n",
        "I have learned in logic that it is a set of rules that specify how items should be arranged for a computer to perform a task.\n",
        "\n",
        "\n",
        "\n"
      ]
    },
    {
      "cell_type": "code",
      "metadata": {
        "colab": {
          "base_uri": "https://localhost:8080/"
        },
        "id": "q9k51wt0_6HZ",
        "outputId": "efc1ab64-0f75-4897-993a-c6e0ffe45730"
      },
      "source": [
        "size_1 == true_size"
      ],
      "execution_count": 26,
      "outputs": [
        {
          "output_type": "execute_result",
          "data": {
            "text/plain": [
              "True"
            ]
          },
          "metadata": {},
          "execution_count": 26
        }
      ]
    },
    {
      "cell_type": "code",
      "metadata": {
        "colab": {
          "base_uri": "https://localhost:8080/"
        },
        "id": "56GGlsnEAGsI",
        "outputId": "d1c3ba74-6d33-454c-c53d-0bf08d7d4800"
      },
      "source": [
        "size_1 is true_size"
      ],
      "execution_count": 27,
      "outputs": [
        {
          "output_type": "execute_result",
          "data": {
            "text/plain": [
              "False"
            ]
          },
          "metadata": {},
          "execution_count": 27
        }
      ]
    },
    {
      "cell_type": "code",
      "metadata": {
        "colab": {
          "base_uri": "https://localhost:8080/"
        },
        "id": "tBREUDL3ARo4",
        "outputId": "25cf1ca4-45a2-4a44-a671-234c555ff8a2"
      },
      "source": [
        "size_1 is not true_size"
      ],
      "execution_count": 28,
      "outputs": [
        {
          "output_type": "execute_result",
          "data": {
            "text/plain": [
              "True"
            ]
          },
          "metadata": {},
          "execution_count": 28
        }
      ]
    },
    {
      "cell_type": "code",
      "metadata": {
        "colab": {
          "base_uri": "https://localhost:8080/"
        },
        "id": "RxmL2Ue3AjNX",
        "outputId": "3510d57d-834a-4e6b-dddf-e23683414017"
      },
      "source": [
        "P, Q =True, False\n",
        "conj = P and Q\n",
        "conj"
      ],
      "execution_count": 29,
      "outputs": [
        {
          "output_type": "execute_result",
          "data": {
            "text/plain": [
              "False"
            ]
          },
          "metadata": {},
          "execution_count": 29
        }
      ]
    },
    {
      "cell_type": "code",
      "metadata": {
        "colab": {
          "base_uri": "https://localhost:8080/"
        },
        "id": "ANyTi9D_A4AW",
        "outputId": "dfe81161-04bd-4754-f193-eeedeaadf0d0"
      },
      "source": [
        "disj = P or Q\n",
        "disj"
      ],
      "execution_count": 30,
      "outputs": [
        {
          "output_type": "execute_result",
          "data": {
            "text/plain": [
              "True"
            ]
          },
          "metadata": {},
          "execution_count": 30
        }
      ]
    },
    {
      "cell_type": "code",
      "metadata": {
        "colab": {
          "base_uri": "https://localhost:8080/"
        },
        "id": "BwVhZDN5BIEt",
        "outputId": "3bdc01fe-04b1-4103-e8e6-7aebe79e00fa"
      },
      "source": [
        "nand = not(P and Q)\n",
        "nand"
      ],
      "execution_count": 31,
      "outputs": [
        {
          "output_type": "execute_result",
          "data": {
            "text/plain": [
              "True"
            ]
          },
          "metadata": {},
          "execution_count": 31
        }
      ]
    },
    {
      "cell_type": "code",
      "metadata": {
        "colab": {
          "base_uri": "https://localhost:8080/"
        },
        "id": "2viLMrflBOhm",
        "outputId": "19877aa2-96f3-4b4c-921d-069a1d2bfa67"
      },
      "source": [
        "xor = (not P and Q) or (P and not Q)\n",
        "xor"
      ],
      "execution_count": 32,
      "outputs": [
        {
          "output_type": "execute_result",
          "data": {
            "text/plain": [
              "True"
            ]
          },
          "metadata": {},
          "execution_count": 32
        }
      ]
    },
    {
      "cell_type": "markdown",
      "metadata": {
        "id": "ax4VQlRCB1we"
      },
      "source": [
        "#Input and Output\n",
        "\n",
        "I have learned in Input and Output is that it is a communication between a computer program and its user is referred to as input and output. The user enters information into the program, and the software responds with information."
      ]
    },
    {
      "cell_type": "code",
      "metadata": {
        "colab": {
          "base_uri": "https://localhost:8080/"
        },
        "id": "7_grdh4BFWhA",
        "outputId": "06368750-03e7-423d-900c-f124dd20ddad"
      },
      "source": [
        "print(\"Hello World!\")"
      ],
      "execution_count": 33,
      "outputs": [
        {
          "output_type": "stream",
          "name": "stdout",
          "text": [
            "Hello World!\n"
          ]
        }
      ]
    },
    {
      "cell_type": "code",
      "metadata": {
        "id": "vU8ESpBuI8jt"
      },
      "source": [
        "cnt = 14000"
      ],
      "execution_count": 34,
      "outputs": []
    },
    {
      "cell_type": "code",
      "metadata": {
        "colab": {
          "base_uri": "https://localhost:8080/"
        },
        "id": "t0zHdaRpHKBi",
        "outputId": "60ce6d16-1bdd-4d05-a28d-40db098ff985"
      },
      "source": [
        "string = \"Hello World!\"\n",
        "print(string, \", Current Covid count is {cnt}\")\n",
        "cnt += 1000"
      ],
      "execution_count": 35,
      "outputs": [
        {
          "output_type": "stream",
          "name": "stdout",
          "text": [
            "Hello World! , Current Covid count is {cnt}\n"
          ]
        }
      ]
    },
    {
      "cell_type": "code",
      "metadata": {
        "colab": {
          "base_uri": "https://localhost:8080/"
        },
        "id": "MTWi_IDFHKZe",
        "outputId": "c9204902-8b3c-4911-d11f-1f7e39028d57"
      },
      "source": [
        "print (f\"{string}, current count is: {cnt}\")"
      ],
      "execution_count": 36,
      "outputs": [
        {
          "output_type": "stream",
          "name": "stdout",
          "text": [
            "Hello World!, current count is: 15000\n"
          ]
        }
      ]
    },
    {
      "cell_type": "code",
      "metadata": {
        "colab": {
          "base_uri": "https://localhost:8080/"
        },
        "id": "EqsqnExRHpl5",
        "outputId": "7b2aa29f-569d-4aa5-c410-e8f77ec475eb"
      },
      "source": [
        "sem_grade = 86.25\n",
        "name =\"Roland\"\n",
        "print(\"Hello{}, your semestral grade is :{}\" . format(name, sem_grade))"
      ],
      "execution_count": 37,
      "outputs": [
        {
          "output_type": "stream",
          "name": "stdout",
          "text": [
            "HelloRoland, your semestral grade is :86.25\n"
          ]
        }
      ]
    },
    {
      "cell_type": "code",
      "metadata": {
        "colab": {
          "base_uri": "https://localhost:8080/"
        },
        "id": "U1QUJbNpHp0f",
        "outputId": "df550424-796e-4fa4-f242-8737a7a97535"
      },
      "source": [
        "pg, mg, fg = 0.3, 0.3, 0.4\n",
        "print(\"the weights of your semestral grades are :\\\n",
        "\\n\\t {:.2%} for Prelims\\\n",
        "\\n\\t {:.2%} for Midterms. and\\\n",
        "\\n\\t{:.2%} for Finals.\". format(pg, mg ,fg))"
      ],
      "execution_count": 38,
      "outputs": [
        {
          "output_type": "stream",
          "name": "stdout",
          "text": [
            "the weights of your semestral grades are :\n",
            "\t 30.00% for Prelims\n",
            "\t 30.00% for Midterms. and\n",
            "\t40.00% for Finals.\n"
          ]
        }
      ]
    },
    {
      "cell_type": "code",
      "metadata": {
        "colab": {
          "base_uri": "https://localhost:8080/"
        },
        "id": "RLGaFR1eLoCq",
        "outputId": "0f3f79b3-175c-46a7-84ab-22b34d9e67f8"
      },
      "source": [
        "e = input (\"Enter a number:\")"
      ],
      "execution_count": 39,
      "outputs": [
        {
          "name": "stdout",
          "output_type": "stream",
          "text": [
            "Enter a number:o\n"
          ]
        }
      ]
    },
    {
      "cell_type": "code",
      "metadata": {
        "colab": {
          "base_uri": "https://localhost:8080/",
          "height": 129
        },
        "id": "7GiIwO_JMHhD",
        "outputId": "039ab827-c139-4335-ad27-013606d241b0"
      },
      "source": [
        "name = input(\"Enter your name: \")\n",
        "pg = input(\"Enter Prelim Grade: \")\n",
        "mg = input(\"Enter Midterm Grade: \")\n",
        "fg = input(\"Enter Final Grade: \")\n",
        "sem_grade = none\n",
        "print(\"Hello {}, your semestral grade is: {}\". format(name_ sem_grade))"
      ],
      "execution_count": 40,
      "outputs": [
        {
          "output_type": "error",
          "ename": "SyntaxError",
          "evalue": "ignored",
          "traceback": [
            "\u001b[0;36m  File \u001b[0;32m\"<ipython-input-40-11c90abd3acf>\"\u001b[0;36m, line \u001b[0;32m6\u001b[0m\n\u001b[0;31m    print(\"Hello {}, your semestral grade is: {}\". format(name_ sem_grade))\u001b[0m\n\u001b[0m                                                                        ^\u001b[0m\n\u001b[0;31mSyntaxError\u001b[0m\u001b[0;31m:\u001b[0m invalid syntax\n"
          ]
        }
      ]
    },
    {
      "cell_type": "markdown",
      "metadata": {
        "id": "4XSOq1VyLV9a"
      },
      "source": [
        "#Looping Statements\n",
        "\n",
        "i have learned in a loop statement is that it is a group of zero or more actions or statements that are repeated until the condition is met. i.e. while loop, do while loop etc.\n"
      ]
    },
    {
      "cell_type": "markdown",
      "metadata": {
        "id": "2OKyNdjALZIZ"
      },
      "source": [
        "#While\n",
        "\n",
        "I have learned in While Loop that it is used to keep repeating a piece of code until it meets a condition."
      ]
    },
    {
      "cell_type": "code",
      "metadata": {
        "colab": {
          "base_uri": "https://localhost:8080/"
        },
        "id": "JPPdj_E2Laf9",
        "outputId": "2d785a52-6edf-4496-def5-684b004824cb"
      },
      "source": [
        "##While Loops\n",
        "i, j = 0, 10\n",
        "while(i<=j):\n",
        "  print(f\"{i}\\t| \\t{j}\")\n",
        "  i += 1"
      ],
      "execution_count": 41,
      "outputs": [
        {
          "output_type": "stream",
          "name": "stdout",
          "text": [
            "0\t| \t10\n",
            "1\t| \t10\n",
            "2\t| \t10\n",
            "3\t| \t10\n",
            "4\t| \t10\n",
            "5\t| \t10\n",
            "6\t| \t10\n",
            "7\t| \t10\n",
            "8\t| \t10\n",
            "9\t| \t10\n",
            "10\t| \t10\n"
          ]
        }
      ]
    },
    {
      "cell_type": "markdown",
      "metadata": {
        "id": "IAU7IKrrMfNq"
      },
      "source": [
        "#For\n",
        "\n",
        "I have learned in for Loop that it is a programming construct that repeats a block of code for a specified number of times."
      ]
    },
    {
      "cell_type": "code",
      "metadata": {
        "colab": {
          "base_uri": "https://localhost:8080/"
        },
        "id": "8Hrn4ANFMg-o",
        "outputId": "2e6d7c06-adbd-4de8-8d59-f1dbde4b7dee"
      },
      "source": [
        "#for(int = 0); i<=10; i++){\n",
        "#printf(i)\n",
        "#}\n",
        "    \n",
        "i = 0\n",
        "for i in range(11):\n",
        "  print(i)"
      ],
      "execution_count": 42,
      "outputs": [
        {
          "output_type": "stream",
          "name": "stdout",
          "text": [
            "0\n",
            "1\n",
            "2\n",
            "3\n",
            "4\n",
            "5\n",
            "6\n",
            "7\n",
            "8\n",
            "9\n",
            "10\n"
          ]
        }
      ]
    },
    {
      "cell_type": "code",
      "metadata": {
        "id": "_ZLdTDRdM5gX",
        "outputId": "32bdca62-8323-444e-e5d4-1658be2d22a3",
        "colab": {
          "base_uri": "https://localhost:8080/"
        }
      },
      "source": [
        "playlist = [\"Bahay Kubo\", \"Magandang Kanta\", \"Buko\"]\n",
        "print('Now Playing:\\n')\n",
        "for song in playlist:\n",
        "  print(song)"
      ],
      "execution_count": 45,
      "outputs": [
        {
          "output_type": "stream",
          "name": "stdout",
          "text": [
            "Now Playing:\n",
            "\n",
            "Bahay Kubo\n",
            "Magandang Kanta\n",
            "Buko\n"
          ]
        }
      ]
    },
    {
      "cell_type": "markdown",
      "metadata": {
        "id": "umuCN_FcLgq5"
      },
      "source": [
        "#Flow Control"
      ]
    },
    {
      "cell_type": "markdown",
      "metadata": {
        "id": "pku9tDuiLm7a"
      },
      "source": [
        "#Condition Statements\n",
        "\n",
        "i have learned in conditional statements Computers may utilize conditional statements to make choices."
      ]
    },
    {
      "cell_type": "code",
      "metadata": {
        "id": "SZY63TesLssF",
        "outputId": "869ed16a-2d09-44fc-e828-08a19952320b",
        "colab": {
          "base_uri": "https://localhost:8080/"
        }
      },
      "source": [
        "num_1, num_2 = 14, 12\n",
        "if(num_1 == num_2):\n",
        "    print(\"HAHA\")\n",
        "elif(num_1>num_2):\n",
        "    print(\"HOHO\")\n",
        "else:\n",
        "    print(\"HUHU\")"
      ],
      "execution_count": 47,
      "outputs": [
        {
          "output_type": "stream",
          "name": "stdout",
          "text": [
            "HOHO\n"
          ]
        }
      ]
    },
    {
      "cell_type": "markdown",
      "metadata": {
        "id": "XUzaGe7tMjzO"
      },
      "source": [
        "###Functions"
      ]
    },
    {
      "cell_type": "code",
      "metadata": {
        "id": "xOGL8Xh9L23k"
      },
      "source": [
        "#void Deleteuser (int userid){\n",
        "#delete(userid);\n",
        "#}\n",
        "\n",
        "def delete_user (userid):\n",
        "  print(\"Successfully deleted user {}\". format(userid))"
      ],
      "execution_count": 48,
      "outputs": []
    },
    {
      "cell_type": "code",
      "metadata": {
        "id": "YQop2dxLNH_J",
        "outputId": "5fc5158f-e6a8-4588-812f-820340c708bd",
        "colab": {
          "base_uri": "https://localhost:8080/"
        }
      },
      "source": [
        "userid = 2020_100100\n",
        "delete_user(2020_100100)"
      ],
      "execution_count": 49,
      "outputs": [
        {
          "output_type": "stream",
          "name": "stdout",
          "text": [
            "Successfully deleted user 2020100100\n"
          ]
        }
      ]
    },
    {
      "cell_type": "code",
      "metadata": {
        "id": "7AVbaqE2NQk0"
      },
      "source": [
        "added1, added2 = 5, 6"
      ],
      "execution_count": 52,
      "outputs": []
    },
    {
      "cell_type": "code",
      "metadata": {
        "id": "Dc2biwITNUYn"
      },
      "source": [
        "def add(added1, added2):\n",
        "  sum = added1 + added2\n",
        "  return sum"
      ],
      "execution_count": 53,
      "outputs": []
    },
    {
      "cell_type": "code",
      "metadata": {
        "id": "y7fecLQnNklo",
        "outputId": "d141e6fa-9b5d-4fea-aaad-3c7cdfd2b656",
        "colab": {
          "base_uri": "https://localhost:8080/"
        }
      },
      "source": [
        "add(5, 4)"
      ],
      "execution_count": 54,
      "outputs": [
        {
          "output_type": "execute_result",
          "data": {
            "text/plain": [
              "9"
            ]
          },
          "metadata": {},
          "execution_count": 54
        }
      ]
    },
    {
      "cell_type": "code",
      "metadata": {
        "id": "NID1CTihNmqA"
      },
      "source": [
        ""
      ],
      "execution_count": null,
      "outputs": []
    }
  ]
}